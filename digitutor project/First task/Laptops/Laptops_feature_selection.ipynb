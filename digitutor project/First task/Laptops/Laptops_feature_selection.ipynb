{
 "cells": [
  {
   "cell_type": "code",
   "execution_count": 1,
   "id": "0338345e",
   "metadata": {},
   "outputs": [],
   "source": [
    "import pandas as pd\n",
    "import numpy as np\n",
    "\n",
    "import matplotlib.pyplot as plt\n",
    "%matplotlib inline\n",
    "\n",
    "## for feature slection\n",
    "\n",
    "from sklearn.linear_model import Lasso\n",
    "from sklearn.feature_selection import SelectFromModel\n",
    "\n",
    "# to visualise al the columns in the dataframe\n",
    "pd.pandas.set_option('display.max_columns', None)"
   ]
  },
  {
   "cell_type": "code",
   "execution_count": 2,
   "id": "d3562c07",
   "metadata": {},
   "outputs": [],
   "source": [
    "dataset=pd.read_csv('laptops_preprocessed.csv',encoding=\"cp1252\")"
   ]
  },
  {
   "cell_type": "code",
   "execution_count": 3,
   "id": "30cf6ed6",
   "metadata": {},
   "outputs": [
    {
     "output_type": "execute_result",
     "data": {
      "text/plain": [
       "   Price_euros  Company   Product  TypeName    Inches  ScreenResolution  \\\n",
       "0      1339.69    0.875  0.777778       0.6  0.385542             1.000   \n",
       "1       898.94    0.875  0.777778       0.6  0.385542             1.000   \n",
       "2       575.00    0.125  0.000000       0.2  0.662651             0.375   \n",
       "3      2537.45    0.875  0.777778       0.6  0.638554             1.000   \n",
       "4      1803.60    0.875  0.777778       0.6  0.385542             1.000   \n",
       "\n",
       "        Cpu    Memory   Gpu  OpSys   Ram(GB)  Weight(kg)  \n",
       "0  0.588235  0.416667  0.75    0.8  0.096774    0.169576  \n",
       "1  0.588235  0.500000  0.75    0.8  0.096774    0.162095  \n",
       "2  0.352941  0.583333  0.60    0.2  0.096774    0.291771  \n",
       "3  0.588235  0.833333  0.75    0.8  0.225806    0.284289  \n",
       "4  0.588235  0.583333  0.75    0.8  0.096774    0.169576  "
      ],
      "text/html": "<div>\n<style scoped>\n    .dataframe tbody tr th:only-of-type {\n        vertical-align: middle;\n    }\n\n    .dataframe tbody tr th {\n        vertical-align: top;\n    }\n\n    .dataframe thead th {\n        text-align: right;\n    }\n</style>\n<table border=\"1\" class=\"dataframe\">\n  <thead>\n    <tr style=\"text-align: right;\">\n      <th></th>\n      <th>Price_euros</th>\n      <th>Company</th>\n      <th>Product</th>\n      <th>TypeName</th>\n      <th>Inches</th>\n      <th>ScreenResolution</th>\n      <th>Cpu</th>\n      <th>Memory</th>\n      <th>Gpu</th>\n      <th>OpSys</th>\n      <th>Ram(GB)</th>\n      <th>Weight(kg)</th>\n    </tr>\n  </thead>\n  <tbody>\n    <tr>\n      <th>0</th>\n      <td>1339.69</td>\n      <td>0.875</td>\n      <td>0.777778</td>\n      <td>0.6</td>\n      <td>0.385542</td>\n      <td>1.000</td>\n      <td>0.588235</td>\n      <td>0.416667</td>\n      <td>0.75</td>\n      <td>0.8</td>\n      <td>0.096774</td>\n      <td>0.169576</td>\n    </tr>\n    <tr>\n      <th>1</th>\n      <td>898.94</td>\n      <td>0.875</td>\n      <td>0.777778</td>\n      <td>0.6</td>\n      <td>0.385542</td>\n      <td>1.000</td>\n      <td>0.588235</td>\n      <td>0.500000</td>\n      <td>0.75</td>\n      <td>0.8</td>\n      <td>0.096774</td>\n      <td>0.162095</td>\n    </tr>\n    <tr>\n      <th>2</th>\n      <td>575.00</td>\n      <td>0.125</td>\n      <td>0.000000</td>\n      <td>0.2</td>\n      <td>0.662651</td>\n      <td>0.375</td>\n      <td>0.352941</td>\n      <td>0.583333</td>\n      <td>0.60</td>\n      <td>0.2</td>\n      <td>0.096774</td>\n      <td>0.291771</td>\n    </tr>\n    <tr>\n      <th>3</th>\n      <td>2537.45</td>\n      <td>0.875</td>\n      <td>0.777778</td>\n      <td>0.6</td>\n      <td>0.638554</td>\n      <td>1.000</td>\n      <td>0.588235</td>\n      <td>0.833333</td>\n      <td>0.75</td>\n      <td>0.8</td>\n      <td>0.225806</td>\n      <td>0.284289</td>\n    </tr>\n    <tr>\n      <th>4</th>\n      <td>1803.60</td>\n      <td>0.875</td>\n      <td>0.777778</td>\n      <td>0.6</td>\n      <td>0.385542</td>\n      <td>1.000</td>\n      <td>0.588235</td>\n      <td>0.583333</td>\n      <td>0.75</td>\n      <td>0.8</td>\n      <td>0.096774</td>\n      <td>0.169576</td>\n    </tr>\n  </tbody>\n</table>\n</div>"
     },
     "metadata": {},
     "execution_count": 3
    }
   ],
   "source": [
    "dataset.head()"
   ]
  },
  {
   "cell_type": "code",
   "execution_count": 4,
   "id": "5363b8ed",
   "metadata": {},
   "outputs": [
    {
     "output_type": "execute_result",
     "data": {
      "text/plain": [
       "   Price_euros\n",
       "0      1339.69\n",
       "1       898.94\n",
       "2       575.00\n",
       "3      2537.45\n",
       "4      1803.60"
      ],
      "text/html": "<div>\n<style scoped>\n    .dataframe tbody tr th:only-of-type {\n        vertical-align: middle;\n    }\n\n    .dataframe tbody tr th {\n        vertical-align: top;\n    }\n\n    .dataframe thead th {\n        text-align: right;\n    }\n</style>\n<table border=\"1\" class=\"dataframe\">\n  <thead>\n    <tr style=\"text-align: right;\">\n      <th></th>\n      <th>Price_euros</th>\n    </tr>\n  </thead>\n  <tbody>\n    <tr>\n      <th>0</th>\n      <td>1339.69</td>\n    </tr>\n    <tr>\n      <th>1</th>\n      <td>898.94</td>\n    </tr>\n    <tr>\n      <th>2</th>\n      <td>575.00</td>\n    </tr>\n    <tr>\n      <th>3</th>\n      <td>2537.45</td>\n    </tr>\n    <tr>\n      <th>4</th>\n      <td>1803.60</td>\n    </tr>\n  </tbody>\n</table>\n</div>"
     },
     "metadata": {},
     "execution_count": 4
    }
   ],
   "source": [
    "y=dataset[['Price_euros']]\n",
    "y.head()"
   ]
  },
  {
   "cell_type": "code",
   "execution_count": 5,
   "id": "fc5fc286",
   "metadata": {},
   "outputs": [
    {
     "output_type": "execute_result",
     "data": {
      "text/plain": [
       "   Company   Product  TypeName    Inches  ScreenResolution       Cpu  \\\n",
       "0    0.875  0.777778       0.6  0.385542             1.000  0.588235   \n",
       "1    0.875  0.777778       0.6  0.385542             1.000  0.588235   \n",
       "2    0.125  0.000000       0.2  0.662651             0.375  0.352941   \n",
       "3    0.875  0.777778       0.6  0.638554             1.000  0.588235   \n",
       "4    0.875  0.777778       0.6  0.385542             1.000  0.588235   \n",
       "\n",
       "     Memory   Gpu  OpSys   Ram(GB)  Weight(kg)  \n",
       "0  0.416667  0.75    0.8  0.096774    0.169576  \n",
       "1  0.500000  0.75    0.8  0.096774    0.162095  \n",
       "2  0.583333  0.60    0.2  0.096774    0.291771  \n",
       "3  0.833333  0.75    0.8  0.225806    0.284289  \n",
       "4  0.583333  0.75    0.8  0.096774    0.169576  "
      ],
      "text/html": "<div>\n<style scoped>\n    .dataframe tbody tr th:only-of-type {\n        vertical-align: middle;\n    }\n\n    .dataframe tbody tr th {\n        vertical-align: top;\n    }\n\n    .dataframe thead th {\n        text-align: right;\n    }\n</style>\n<table border=\"1\" class=\"dataframe\">\n  <thead>\n    <tr style=\"text-align: right;\">\n      <th></th>\n      <th>Company</th>\n      <th>Product</th>\n      <th>TypeName</th>\n      <th>Inches</th>\n      <th>ScreenResolution</th>\n      <th>Cpu</th>\n      <th>Memory</th>\n      <th>Gpu</th>\n      <th>OpSys</th>\n      <th>Ram(GB)</th>\n      <th>Weight(kg)</th>\n    </tr>\n  </thead>\n  <tbody>\n    <tr>\n      <th>0</th>\n      <td>0.875</td>\n      <td>0.777778</td>\n      <td>0.6</td>\n      <td>0.385542</td>\n      <td>1.000</td>\n      <td>0.588235</td>\n      <td>0.416667</td>\n      <td>0.75</td>\n      <td>0.8</td>\n      <td>0.096774</td>\n      <td>0.169576</td>\n    </tr>\n    <tr>\n      <th>1</th>\n      <td>0.875</td>\n      <td>0.777778</td>\n      <td>0.6</td>\n      <td>0.385542</td>\n      <td>1.000</td>\n      <td>0.588235</td>\n      <td>0.500000</td>\n      <td>0.75</td>\n      <td>0.8</td>\n      <td>0.096774</td>\n      <td>0.162095</td>\n    </tr>\n    <tr>\n      <th>2</th>\n      <td>0.125</td>\n      <td>0.000000</td>\n      <td>0.2</td>\n      <td>0.662651</td>\n      <td>0.375</td>\n      <td>0.352941</td>\n      <td>0.583333</td>\n      <td>0.60</td>\n      <td>0.2</td>\n      <td>0.096774</td>\n      <td>0.291771</td>\n    </tr>\n    <tr>\n      <th>3</th>\n      <td>0.875</td>\n      <td>0.777778</td>\n      <td>0.6</td>\n      <td>0.638554</td>\n      <td>1.000</td>\n      <td>0.588235</td>\n      <td>0.833333</td>\n      <td>0.75</td>\n      <td>0.8</td>\n      <td>0.225806</td>\n      <td>0.284289</td>\n    </tr>\n    <tr>\n      <th>4</th>\n      <td>0.875</td>\n      <td>0.777778</td>\n      <td>0.6</td>\n      <td>0.385542</td>\n      <td>1.000</td>\n      <td>0.588235</td>\n      <td>0.583333</td>\n      <td>0.75</td>\n      <td>0.8</td>\n      <td>0.096774</td>\n      <td>0.169576</td>\n    </tr>\n  </tbody>\n</table>\n</div>"
     },
     "metadata": {},
     "execution_count": 5
    }
   ],
   "source": [
    "X=dataset.drop('Price_euros',axis=1)\n",
    "X.head()"
   ]
  },
  {
   "cell_type": "code",
   "execution_count": 6,
   "id": "27f3047e",
   "metadata": {},
   "outputs": [],
   "source": [
    "from sklearn.model_selection import train_test_split\n",
    "X_train,X_valid,y_train,y_valid=train_test_split(X,y,train_size=0.7,test_size=0.3,random_state=0)"
   ]
  },
  {
   "cell_type": "code",
   "execution_count": 7,
   "id": "12fee640",
   "metadata": {},
   "outputs": [
    {
     "output_type": "execute_result",
     "data": {
      "text/plain": [
       "SelectFromModel(estimator=Lasso(alpha=0.005, random_state=0))"
      ]
     },
     "metadata": {},
     "execution_count": 7
    }
   ],
   "source": [
    "feature_sel_model = SelectFromModel(Lasso(alpha=0.005, random_state=0)) \n",
    "feature_sel_model.fit(X_train, y_train)"
   ]
  },
  {
   "cell_type": "code",
   "execution_count": 8,
   "id": "f5009f00",
   "metadata": {},
   "outputs": [
    {
     "output_type": "execute_result",
     "data": {
      "text/plain": [
       "array([ True,  True,  True,  True,  True,  True,  True,  True,  True,\n",
       "        True,  True])"
      ]
     },
     "metadata": {},
     "execution_count": 8
    }
   ],
   "source": [
    "feature_sel_model.get_support()"
   ]
  },
  {
   "cell_type": "code",
   "execution_count": 9,
   "id": "2bc75940",
   "metadata": {},
   "outputs": [
    {
     "output_type": "stream",
     "name": "stdout",
     "text": [
      "total features: 11\nselected features: 11\n"
     ]
    },
    {
     "output_type": "error",
     "ename": "NameError",
     "evalue": "name 'sel_' is not defined",
     "traceback": [
      "\u001b[0;31m---------------------------------------------------------------------------\u001b[0m",
      "\u001b[0;31mNameError\u001b[0m                                 Traceback (most recent call last)",
      "\u001b[0;32m<ipython-input-9-13461a79bc18>\u001b[0m in \u001b[0;36m<module>\u001b[0;34m\u001b[0m\n\u001b[1;32m      8\u001b[0m \u001b[0mprint\u001b[0m\u001b[0;34m(\u001b[0m\u001b[0;34m'selected features: {}'\u001b[0m\u001b[0;34m.\u001b[0m\u001b[0mformat\u001b[0m\u001b[0;34m(\u001b[0m\u001b[0mlen\u001b[0m\u001b[0;34m(\u001b[0m\u001b[0mselected_feat\u001b[0m\u001b[0;34m)\u001b[0m\u001b[0;34m)\u001b[0m\u001b[0;34m)\u001b[0m\u001b[0;34m\u001b[0m\u001b[0;34m\u001b[0m\u001b[0m\n\u001b[1;32m      9\u001b[0m print('features with coefficients shrank to zero: {}'.format(\n\u001b[0;32m---> 10\u001b[0;31m     np.sum(sel_.estimator_.coef_ == 0)))\n\u001b[0m",
      "\u001b[0;31mNameError\u001b[0m: name 'sel_' is not defined"
     ]
    }
   ],
   "source": [
    "# let's print the number of total and selected features\n",
    "\n",
    "# this is how we can make a list of the selected features\n",
    "selected_feat = X_train.columns[(feature_sel_model.get_support())]\n",
    "\n",
    "# let's print some stats\n",
    "print('total features: {}'.format((X_train.shape[1])))\n",
    "print('selected features: {}'.format(len(selected_feat)))\n",
    "print('features with coefficients shrank to zero: {}'.format(\n",
    "    np.sum(sel_.estimator_.coef_ == 0)))"
   ]
  },
  {
   "cell_type": "code",
   "execution_count": 141,
   "id": "7685243f",
   "metadata": {},
   "outputs": [
    {
     "data": {
      "text/plain": [
       "Index(['Company', 'Product', 'TypeName', 'Inches', 'ScreenResolution', 'Cpu',\n",
       "       'Memory', 'Gpu', 'OpSys', 'Ram(GB)', 'Weight(kg)'],\n",
       "      dtype='object')"
      ]
     },
     "execution_count": 141,
     "metadata": {},
     "output_type": "execute_result"
    }
   ],
   "source": [
    "selected_feat"
   ]
  },
  {
   "cell_type": "code",
   "execution_count": 142,
   "id": "12738017",
   "metadata": {},
   "outputs": [],
   "source": [
    "X_train=X_train[selected_feat]"
   ]
  },
  {
   "cell_type": "code",
   "execution_count": 143,
   "id": "d0b200a9",
   "metadata": {},
   "outputs": [
    {
     "data": {
      "text/html": [
       "<div>\n",
       "<style scoped>\n",
       "    .dataframe tbody tr th:only-of-type {\n",
       "        vertical-align: middle;\n",
       "    }\n",
       "\n",
       "    .dataframe tbody tr th {\n",
       "        vertical-align: top;\n",
       "    }\n",
       "\n",
       "    .dataframe thead th {\n",
       "        text-align: right;\n",
       "    }\n",
       "</style>\n",
       "<table border=\"1\" class=\"dataframe\">\n",
       "  <thead>\n",
       "    <tr style=\"text-align: right;\">\n",
       "      <th></th>\n",
       "      <th>Company</th>\n",
       "      <th>Product</th>\n",
       "      <th>TypeName</th>\n",
       "      <th>Inches</th>\n",
       "      <th>ScreenResolution</th>\n",
       "      <th>Cpu</th>\n",
       "      <th>Memory</th>\n",
       "      <th>Gpu</th>\n",
       "      <th>OpSys</th>\n",
       "      <th>Ram(GB)</th>\n",
       "      <th>Weight(kg)</th>\n",
       "    </tr>\n",
       "  </thead>\n",
       "  <tbody>\n",
       "    <tr>\n",
       "      <th>446</th>\n",
       "      <td>0.000</td>\n",
       "      <td>0.777778</td>\n",
       "      <td>0.2</td>\n",
       "      <td>0.662651</td>\n",
       "      <td>0.125</td>\n",
       "      <td>0.352941</td>\n",
       "      <td>0.166667</td>\n",
       "      <td>0.60</td>\n",
       "      <td>0.4</td>\n",
       "      <td>0.032258</td>\n",
       "      <td>0.426434</td>\n",
       "    </tr>\n",
       "    <tr>\n",
       "      <th>117</th>\n",
       "      <td>0.500</td>\n",
       "      <td>0.777778</td>\n",
       "      <td>0.2</td>\n",
       "      <td>0.662651</td>\n",
       "      <td>0.625</td>\n",
       "      <td>0.647059</td>\n",
       "      <td>0.750000</td>\n",
       "      <td>0.35</td>\n",
       "      <td>0.6</td>\n",
       "      <td>0.096774</td>\n",
       "      <td>0.366584</td>\n",
       "    </tr>\n",
       "    <tr>\n",
       "      <th>692</th>\n",
       "      <td>0.125</td>\n",
       "      <td>0.777778</td>\n",
       "      <td>1.0</td>\n",
       "      <td>0.867470</td>\n",
       "      <td>0.375</td>\n",
       "      <td>0.941176</td>\n",
       "      <td>0.166667</td>\n",
       "      <td>0.75</td>\n",
       "      <td>0.6</td>\n",
       "      <td>0.096774</td>\n",
       "      <td>0.610973</td>\n",
       "    </tr>\n",
       "    <tr>\n",
       "      <th>294</th>\n",
       "      <td>0.250</td>\n",
       "      <td>0.777778</td>\n",
       "      <td>0.2</td>\n",
       "      <td>0.662651</td>\n",
       "      <td>0.375</td>\n",
       "      <td>0.411765</td>\n",
       "      <td>0.583333</td>\n",
       "      <td>0.70</td>\n",
       "      <td>0.6</td>\n",
       "      <td>0.096774</td>\n",
       "      <td>0.339152</td>\n",
       "    </tr>\n",
       "    <tr>\n",
       "      <th>261</th>\n",
       "      <td>0.250</td>\n",
       "      <td>0.777778</td>\n",
       "      <td>0.2</td>\n",
       "      <td>0.662651</td>\n",
       "      <td>0.375</td>\n",
       "      <td>0.235294</td>\n",
       "      <td>0.583333</td>\n",
       "      <td>0.45</td>\n",
       "      <td>0.2</td>\n",
       "      <td>0.032258</td>\n",
       "      <td>0.376559</td>\n",
       "    </tr>\n",
       "  </tbody>\n",
       "</table>\n",
       "</div>"
      ],
      "text/plain": [
       "     Company   Product  TypeName    Inches  ScreenResolution       Cpu  \\\n",
       "446    0.000  0.777778       0.2  0.662651             0.125  0.352941   \n",
       "117    0.500  0.777778       0.2  0.662651             0.625  0.647059   \n",
       "692    0.125  0.777778       1.0  0.867470             0.375  0.941176   \n",
       "294    0.250  0.777778       0.2  0.662651             0.375  0.411765   \n",
       "261    0.250  0.777778       0.2  0.662651             0.375  0.235294   \n",
       "\n",
       "       Memory   Gpu  OpSys   Ram(GB)  Weight(kg)  \n",
       "446  0.166667  0.60    0.4  0.032258    0.426434  \n",
       "117  0.750000  0.35    0.6  0.096774    0.366584  \n",
       "692  0.166667  0.75    0.6  0.096774    0.610973  \n",
       "294  0.583333  0.70    0.6  0.096774    0.339152  \n",
       "261  0.583333  0.45    0.2  0.032258    0.376559  "
      ]
     },
     "execution_count": 143,
     "metadata": {},
     "output_type": "execute_result"
    }
   ],
   "source": [
    "X_train.head()"
   ]
  },
  {
   "cell_type": "code",
   "execution_count": 144,
   "id": "5f62e3ad",
   "metadata": {},
   "outputs": [
    {
     "name": "stdout",
     "output_type": "stream",
     "text": [
      "MAE:\n",
      "237.0775063938619\n",
      "Score: 0.999108555613873\n"
     ]
    }
   ],
   "source": [
    "from sklearn.tree import DecisionTreeRegressor\n",
    "from sklearn.metrics import mean_absolute_error\n",
    "\n",
    "model=DecisionTreeRegressor(random_state=0).fit(X_train,y_train)\n",
    "preds=model.predict(X_valid)\n",
    "print(\"MAE:\")\n",
    "print(mean_absolute_error(y_valid,preds))\n",
    "print(\"Score:\",model.score(X_train,y_train))"
   ]
  },
  {
   "cell_type": "code",
   "execution_count": 148,
   "id": "0fd9b45d",
   "metadata": {},
   "outputs": [
    {
     "name": "stdout",
     "output_type": "stream",
     "text": [
      "MAE:\n",
      "289.9906018855184\n",
      "Score: 0.733897808774155\n"
     ]
    }
   ],
   "source": [
    "from sklearn.linear_model import LinearRegression\n",
    "model=LinearRegression().fit(X_train,y_train)\n",
    "preds=model.predict(X_valid)\n",
    "print(\"MAE:\")\n",
    "print(mean_absolute_error(y_valid,preds))\n",
    "print(\"Score:\",model.score(X_train,y_train))"
   ]
  },
  {
   "cell_type": "code",
   "execution_count": null,
   "id": "50d01608",
   "metadata": {},
   "outputs": [],
   "source": []
  }
 ],
 "metadata": {
  "kernelspec": {
   "name": "python3",
   "display_name": "Python 3.6.9 64-bit"
  },
  "language_info": {
   "codemirror_mode": {
    "name": "ipython",
    "version": 3
   },
   "file_extension": ".py",
   "mimetype": "text/x-python",
   "name": "python",
   "nbconvert_exporter": "python",
   "pygments_lexer": "ipython3",
   "version": "3.6.9"
  },
  "interpreter": {
   "hash": "31f2aee4e71d21fbe5cf8b01ff0e069b9275f58929596ceb00d14d90e3e16cd6"
  }
 },
 "nbformat": 4,
 "nbformat_minor": 5
}