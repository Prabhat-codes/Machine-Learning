{
 "metadata": {
  "language_info": {
   "codemirror_mode": {
    "name": "ipython",
    "version": 3
   },
   "file_extension": ".py",
   "mimetype": "text/x-python",
   "name": "python",
   "nbconvert_exporter": "python",
   "pygments_lexer": "ipython3",
   "version": "2.7.17"
  },
  "orig_nbformat": 4,
  "kernelspec": {
   "name": "python3",
   "display_name": "Python 2.7.17 64-bit"
  },
  "interpreter": {
   "hash": "767d51c1340bd893661ea55ea3124f6de3c7a262a8b4abca0554b478b1e2ff90"
  }
 },
 "nbformat": 4,
 "nbformat_minor": 2,
 "cells": [
  {
   "cell_type": "code",
   "execution_count": 24,
   "metadata": {},
   "outputs": [],
   "source": [
    "import pandas as pd \n",
    "import numpy as np \n",
    "import matplotlib.pyplot as plt\n",
    "from sklearn import preprocessing\n",
    "from pickle import dump\n",
    "import seaborn as sns\n",
    "import pickle"
   ]
  },
  {
   "cell_type": "code",
   "execution_count": 25,
   "metadata": {},
   "outputs": [
    {
     "output_type": "execute_result",
     "data": {
      "text/html": "<div>\n<style scoped>\n    .dataframe tbody tr th:only-of-type {\n        vertical-align: middle;\n    }\n\n    .dataframe tbody tr th {\n        vertical-align: top;\n    }\n\n    .dataframe thead th {\n        text-align: right;\n    }\n</style>\n<table border=\"1\" class=\"dataframe\">\n  <thead>\n    <tr style=\"text-align: right;\">\n      <th></th>\n      <th>area_type</th>\n      <th>bath</th>\n      <th>balcony</th>\n      <th>price</th>\n      <th>total_sqft</th>\n      <th>size</th>\n      <th>prft</th>\n      <th>availability</th>\n      <th>location_Whitefield</th>\n      <th>location_Sarjapur  Road</th>\n      <th>...</th>\n      <th>location_Bommasandra</th>\n      <th>location_Vijayanagar</th>\n      <th>location_Channasandra</th>\n      <th>location_Choodasandra</th>\n      <th>location_Mahadevpura</th>\n      <th>location_Old Airport Road</th>\n      <th>location_Kanakapura</th>\n      <th>location_Ambedkar Nagar</th>\n      <th>location_Anekal</th>\n      <th>location_Kothannur</th>\n    </tr>\n  </thead>\n  <tbody>\n    <tr>\n      <th>0</th>\n      <td>3</td>\n      <td>3.0</td>\n      <td>2.0</td>\n      <td>150.0</td>\n      <td>1672.0</td>\n      <td>2.0</td>\n      <td>8971.291866</td>\n      <td>12</td>\n      <td>0</td>\n      <td>0</td>\n      <td>...</td>\n      <td>0</td>\n      <td>0</td>\n      <td>0</td>\n      <td>0</td>\n      <td>0</td>\n      <td>0</td>\n      <td>0</td>\n      <td>0</td>\n      <td>0</td>\n      <td>0</td>\n    </tr>\n    <tr>\n      <th>1</th>\n      <td>0</td>\n      <td>3.0</td>\n      <td>3.0</td>\n      <td>149.0</td>\n      <td>1750.0</td>\n      <td>3.0</td>\n      <td>8514.285714</td>\n      <td>12</td>\n      <td>0</td>\n      <td>0</td>\n      <td>...</td>\n      <td>0</td>\n      <td>0</td>\n      <td>0</td>\n      <td>0</td>\n      <td>0</td>\n      <td>0</td>\n      <td>0</td>\n      <td>0</td>\n      <td>0</td>\n      <td>0</td>\n    </tr>\n    <tr>\n      <th>2</th>\n      <td>3</td>\n      <td>3.0</td>\n      <td>2.0</td>\n      <td>150.0</td>\n      <td>1750.0</td>\n      <td>3.0</td>\n      <td>8571.428571</td>\n      <td>12</td>\n      <td>0</td>\n      <td>0</td>\n      <td>...</td>\n      <td>0</td>\n      <td>0</td>\n      <td>0</td>\n      <td>0</td>\n      <td>0</td>\n      <td>0</td>\n      <td>0</td>\n      <td>0</td>\n      <td>0</td>\n      <td>0</td>\n    </tr>\n    <tr>\n      <th>3</th>\n      <td>3</td>\n      <td>2.0</td>\n      <td>3.0</td>\n      <td>44.0</td>\n      <td>1250.0</td>\n      <td>3.0</td>\n      <td>3520.000000</td>\n      <td>9</td>\n      <td>0</td>\n      <td>0</td>\n      <td>...</td>\n      <td>0</td>\n      <td>0</td>\n      <td>0</td>\n      <td>0</td>\n      <td>0</td>\n      <td>0</td>\n      <td>0</td>\n      <td>0</td>\n      <td>0</td>\n      <td>0</td>\n    </tr>\n    <tr>\n      <th>4</th>\n      <td>3</td>\n      <td>2.0</td>\n      <td>2.0</td>\n      <td>40.0</td>\n      <td>1250.0</td>\n      <td>2.0</td>\n      <td>3200.000000</td>\n      <td>12</td>\n      <td>0</td>\n      <td>0</td>\n      <td>...</td>\n      <td>0</td>\n      <td>0</td>\n      <td>0</td>\n      <td>0</td>\n      <td>0</td>\n      <td>0</td>\n      <td>0</td>\n      <td>0</td>\n      <td>0</td>\n      <td>0</td>\n    </tr>\n  </tbody>\n</table>\n<p>5 rows × 94 columns</p>\n</div>",
      "text/plain": [
       "   area_type  bath  balcony  price  total_sqft  size         prft  \\\n",
       "0          3   3.0      2.0  150.0      1672.0   2.0  8971.291866   \n",
       "1          0   3.0      3.0  149.0      1750.0   3.0  8514.285714   \n",
       "2          3   3.0      2.0  150.0      1750.0   3.0  8571.428571   \n",
       "3          3   2.0      3.0   44.0      1250.0   3.0  3520.000000   \n",
       "4          3   2.0      2.0   40.0      1250.0   2.0  3200.000000   \n",
       "\n",
       "   availability  location_Whitefield  location_Sarjapur  Road  ...  \\\n",
       "0            12                    0                        0  ...   \n",
       "1            12                    0                        0  ...   \n",
       "2            12                    0                        0  ...   \n",
       "3             9                    0                        0  ...   \n",
       "4            12                    0                        0  ...   \n",
       "\n",
       "   location_Bommasandra  location_Vijayanagar  location_Channasandra  \\\n",
       "0                     0                     0                      0   \n",
       "1                     0                     0                      0   \n",
       "2                     0                     0                      0   \n",
       "3                     0                     0                      0   \n",
       "4                     0                     0                      0   \n",
       "\n",
       "   location_Choodasandra  location_Mahadevpura  location_Old Airport Road  \\\n",
       "0                      0                     0                          0   \n",
       "1                      0                     0                          0   \n",
       "2                      0                     0                          0   \n",
       "3                      0                     0                          0   \n",
       "4                      0                     0                          0   \n",
       "\n",
       "   location_Kanakapura  location_Ambedkar Nagar  location_Anekal  \\\n",
       "0                    0                        0                0   \n",
       "1                    0                        0                0   \n",
       "2                    0                        0                0   \n",
       "3                    0                        0                0   \n",
       "4                    0                        0                0   \n",
       "\n",
       "   location_Kothannur  \n",
       "0                   0  \n",
       "1                   0  \n",
       "2                   0  \n",
       "3                   0  \n",
       "4                   0  \n",
       "\n",
       "[5 rows x 94 columns]"
      ]
     },
     "metadata": {},
     "execution_count": 25
    }
   ],
   "source": [
    "df=pd.read_csv(\"CleanedData.csv\") #reading the processed data\n",
    "df.head()"
   ]
  },
  {
   "source": [
    "# Splitting the data into test and train"
   ],
   "cell_type": "markdown",
   "metadata": {}
  },
  {
   "cell_type": "code",
   "execution_count": 26,
   "metadata": {},
   "outputs": [],
   "source": [
    "from sklearn.model_selection import train_test_split"
   ]
  },
  {
   "cell_type": "code",
   "execution_count": 27,
   "metadata": {},
   "outputs": [
    {
     "output_type": "stream",
     "name": "stdout",
     "text": [
      "('Shape of X', (6926, 93))\n('Shape of y', (6926,))\n"
     ]
    }
   ],
   "source": [
    "X=df.drop(\"price\",axis=1)\n",
    "y=df[\"price\"]\n",
    "print(\"Shape of X\",X.shape)\n",
    "print(\"Shape of y\",y.shape)"
   ]
  },
  {
   "cell_type": "code",
   "execution_count": 28,
   "metadata": {},
   "outputs": [
    {
     "output_type": "stream",
     "name": "stdout",
     "text": [
      "('Shape of X_train', (5540, 93))\n('Shape of X_test', (1386, 93))\n('Shape of y_train', (5540,))\n('Shape of y_test', (1386,))\n"
     ]
    }
   ],
   "source": [
    "X_train,X_test,y_train,y_test=train_test_split(X,y,test_size=0.2,random_state=51)\n",
    "print(\"Shape of X_train\",X_train.shape)\n",
    "print(\"Shape of X_test\",X_test.shape)\n",
    "print(\"Shape of y_train\",y_train.shape)\n",
    "print(\"Shape of y_test\",y_test.shape)"
   ]
  },
  {
   "source": [
    "# Feature Scaling"
   ],
   "cell_type": "markdown",
   "metadata": {}
  },
  {
   "cell_type": "code",
   "execution_count": 29,
   "metadata": {},
   "outputs": [],
   "source": [
    "from sklearn.preprocessing import StandardScaler"
   ]
  },
  {
   "cell_type": "code",
   "execution_count": 30,
   "metadata": {},
   "outputs": [
    {
     "output_type": "stream",
     "name": "stderr",
     "text": [
      "/home/prabhat/.local/lib/python2.7/site-packages/ipykernel_launcher.py:3: DataConversionWarning: Data with input dtype int64, float64 were all converted to float64 by StandardScaler.\n  This is separate from the ipykernel package so we can avoid doing imports until\n/home/prabhat/.local/lib/python2.7/site-packages/ipykernel_launcher.py:4: DataConversionWarning: Data with input dtype int64, float64 were all converted to float64 by StandardScaler.\n  after removing the cwd from sys.path.\n"
     ]
    }
   ],
   "source": [
    "sc=StandardScaler()\n",
    "sc.fit(X_train)\n",
    "X_train=sc.transform(X_train)\n",
    "X_test=sc.transform(X_test)"
   ]
  },
  {
   "source": [
    "# Model training"
   ],
   "cell_type": "markdown",
   "metadata": {}
  },
  {
   "source": [
    "<h2> Linear Regression"
   ],
   "cell_type": "markdown",
   "metadata": {}
  },
  {
   "cell_type": "code",
   "execution_count": 31,
   "metadata": {},
   "outputs": [],
   "source": [
    "from sklearn.linear_model import LinearRegression\n",
    "from sklearn.linear_model import Lasso\n",
    "from sklearn.linear_model import Ridge\n",
    "from sklearn.metrics import mean_squared_error\n",
    "\n",
    "lr=LinearRegression()\n",
    "ls=Lasso()\n",
    "rg=Ridge()"
   ]
  },
  {
   "cell_type": "code",
   "execution_count": 32,
   "metadata": {},
   "outputs": [],
   "source": [
    "#Function to check the mean squared error\n",
    "def rmse(y_test,y_pred):\n",
    "    return np.sqrt(mean_squared_error(y_test,y_pred))"
   ]
  },
  {
   "cell_type": "code",
   "execution_count": 33,
   "metadata": {},
   "outputs": [
    {
     "output_type": "stream",
     "name": "stdout",
     "text": [
      "Linear Regression 0.932202091741231,18.70715639713961\n"
     ]
    }
   ],
   "source": [
    "#Linear Regression\n",
    "lr.fit(X_train,y_train)\n",
    "lr_score=lr.score(X_test,y_test)\n",
    "lr_rmse=rmse(y_test,lr.predict(X_test))\n",
    "print(\"Linear Regression \"+str(lr_score)+\",\"+str(lr_rmse))"
   ]
  },
  {
   "cell_type": "code",
   "execution_count": 34,
   "metadata": {},
   "outputs": [
    {
     "output_type": "stream",
     "name": "stdout",
     "text": [
      "Lasso 0.9327438475890113,18.63226442107239\n"
     ]
    }
   ],
   "source": [
    "#Lasso\n",
    "ls.fit(X_train,y_train)\n",
    "ls_score=ls.score(X_test,y_test)\n",
    "ls_rmse=rmse(y_test,ls.predict(X_test))\n",
    "print(\"Lasso \"+str(ls_score)+\",\"+str(ls_rmse))"
   ]
  },
  {
   "cell_type": "code",
   "execution_count": 35,
   "metadata": {},
   "outputs": [
    {
     "output_type": "stream",
     "name": "stdout",
     "text": [
      "Ridge 0.9322172654826217,18.705062870622196\n"
     ]
    }
   ],
   "source": [
    "#Ridge\n",
    "rg.fit(X_train,y_train)\n",
    "rg_score=rg.score(X_test,y_test)\n",
    "rg_rmse=rmse(y_test,rg.predict(X_test))\n",
    "print(\"Ridge \"+str(rg_score)+\",\"+str(rg_rmse))"
   ]
  },
  {
   "cell_type": "code",
   "execution_count": 36,
   "metadata": {},
   "outputs": [
    {
     "output_type": "stream",
     "name": "stdout",
     "text": [
      "Support Vector Machine 0.4357593210850411,53.96744111136593\n"
     ]
    }
   ],
   "source": [
    "#Support Vector Machine\n",
    "from sklearn.svm import SVR\n",
    "svr=SVR()\n",
    "svr.fit(X_train,y_train)\n",
    "svr_score=svr.score(X_test,y_test)\n",
    "svr_rmse=rmse(y_test,svr.predict(X_test))\n",
    "print(\"Support Vector Machine \"+str(svr_score)+\",\"+str(svr_rmse))"
   ]
  },
  {
   "cell_type": "code",
   "execution_count": 37,
   "metadata": {},
   "outputs": [
    {
     "output_type": "stream",
     "name": "stdout",
     "text": [
      "Random Forest Regressor 0.8823280252167427,24.645415850262285\n"
     ]
    }
   ],
   "source": [
    "#Random Forest Regressor\n",
    "from sklearn.ensemble import RandomForestRegressor\n",
    "rf=RandomForestRegressor()\n",
    "rf.fit(X_train,y_train)\n",
    "rf_score=rf.score(X_test,y_test)\n",
    "rf_rmse=rmse(y_test,rf.predict(X_test))\n",
    "print(\"Random Forest Regressor \"+str(rf_score)+\",\"+str(rf_rmse))"
   ]
  },
  {
   "cell_type": "code",
   "execution_count": 38,
   "metadata": {},
   "outputs": [],
   "source": [
    "store=pd.DataFrame([{\"Model\":'Linear','Score':lr_score,'RMSE':lr_rmse},\n",
    "{\"Model\":'Lasso','Score':ls_score,'RMSE':ls_rmse},\n",
    "{\"Model\":'Ridge','Score':rg_score,'RMSE':rg_rmse}])"
   ]
  },
  {
   "cell_type": "code",
   "execution_count": 39,
   "metadata": {},
   "outputs": [
    {
     "output_type": "execute_result",
     "data": {
      "text/html": "<div>\n<style scoped>\n    .dataframe tbody tr th:only-of-type {\n        vertical-align: middle;\n    }\n\n    .dataframe tbody tr th {\n        vertical-align: top;\n    }\n\n    .dataframe thead th {\n        text-align: right;\n    }\n</style>\n<table border=\"1\" class=\"dataframe\">\n  <thead>\n    <tr style=\"text-align: right;\">\n      <th></th>\n      <th>Model</th>\n      <th>RMSE</th>\n      <th>Score</th>\n    </tr>\n  </thead>\n  <tbody>\n    <tr>\n      <th>0</th>\n      <td>Linear</td>\n      <td>18.707156</td>\n      <td>0.932202</td>\n    </tr>\n    <tr>\n      <th>1</th>\n      <td>Lasso</td>\n      <td>18.632264</td>\n      <td>0.932744</td>\n    </tr>\n    <tr>\n      <th>2</th>\n      <td>Ridge</td>\n      <td>18.705063</td>\n      <td>0.932217</td>\n    </tr>\n  </tbody>\n</table>\n</div>",
      "text/plain": [
       "    Model       RMSE     Score\n",
       "0  Linear  18.707156  0.932202\n",
       "1   Lasso  18.632264  0.932744\n",
       "2   Ridge  18.705063  0.932217"
      ]
     },
     "metadata": {},
     "execution_count": 39
    }
   ],
   "source": [
    "store.to_csv(\"Loc15TotSqft350.csv\")\n",
    "store"
   ]
  },
  {
   "cell_type": "code",
   "execution_count": 40,
   "metadata": {},
   "outputs": [
    {
     "output_type": "execute_result",
     "data": {
      "text/html": "<div>\n<style scoped>\n    .dataframe tbody tr th:only-of-type {\n        vertical-align: middle;\n    }\n\n    .dataframe tbody tr th {\n        vertical-align: top;\n    }\n\n    .dataframe thead th {\n        text-align: right;\n    }\n</style>\n<table border=\"1\" class=\"dataframe\">\n  <thead>\n    <tr style=\"text-align: right;\">\n      <th></th>\n      <th>Unnamed: 0</th>\n      <th>Model</th>\n      <th>RMSE</th>\n      <th>Score</th>\n    </tr>\n  </thead>\n  <tbody>\n    <tr>\n      <th>0</th>\n      <td>0</td>\n      <td>Linear</td>\n      <td>18.707156</td>\n      <td>0.932202</td>\n    </tr>\n    <tr>\n      <th>1</th>\n      <td>1</td>\n      <td>Lasso</td>\n      <td>18.632264</td>\n      <td>0.932744</td>\n    </tr>\n    <tr>\n      <th>2</th>\n      <td>2</td>\n      <td>Ridge</td>\n      <td>18.705063</td>\n      <td>0.932217</td>\n    </tr>\n  </tbody>\n</table>\n</div>",
      "text/plain": [
       "   Unnamed: 0   Model       RMSE     Score\n",
       "0           0  Linear  18.707156  0.932202\n",
       "1           1   Lasso  18.632264  0.932744\n",
       "2           2   Ridge  18.705063  0.932217"
      ]
     },
     "metadata": {},
     "execution_count": 40
    }
   ],
   "source": [
    "st=pd.read_csv(\"Loc20TotSqft350.csv\")\n",
    "st"
   ]
  },
  {
   "cell_type": "code",
   "execution_count": 45,
   "metadata": {},
   "outputs": [
    {
     "output_type": "execute_result",
     "data": {
      "text/html": "<div>\n<style scoped>\n    .dataframe tbody tr th:only-of-type {\n        vertical-align: middle;\n    }\n\n    .dataframe tbody tr th {\n        vertical-align: top;\n    }\n\n    .dataframe thead th {\n        text-align: right;\n    }\n</style>\n<table border=\"1\" class=\"dataframe\">\n  <thead>\n    <tr style=\"text-align: right;\">\n      <th></th>\n      <th>area_type</th>\n      <th>bath</th>\n      <th>balcony</th>\n      <th>total_sqft</th>\n      <th>size</th>\n      <th>prft</th>\n      <th>availability</th>\n      <th>location_Whitefield</th>\n      <th>location_Sarjapur  Road</th>\n      <th>location_Electronic City</th>\n      <th>...</th>\n      <th>location_Bommasandra</th>\n      <th>location_Vijayanagar</th>\n      <th>location_Channasandra</th>\n      <th>location_Choodasandra</th>\n      <th>location_Mahadevpura</th>\n      <th>location_Old Airport Road</th>\n      <th>location_Kanakapura</th>\n      <th>location_Ambedkar Nagar</th>\n      <th>location_Anekal</th>\n      <th>location_Kothannur</th>\n    </tr>\n  </thead>\n  <tbody>\n    <tr>\n      <th>0</th>\n      <td>3</td>\n      <td>3.0</td>\n      <td>2.0</td>\n      <td>1672.0</td>\n      <td>2.0</td>\n      <td>8971.291866</td>\n      <td>12</td>\n      <td>0</td>\n      <td>0</td>\n      <td>0</td>\n      <td>...</td>\n      <td>0</td>\n      <td>0</td>\n      <td>0</td>\n      <td>0</td>\n      <td>0</td>\n      <td>0</td>\n      <td>0</td>\n      <td>0</td>\n      <td>0</td>\n      <td>0</td>\n    </tr>\n    <tr>\n      <th>1</th>\n      <td>0</td>\n      <td>3.0</td>\n      <td>3.0</td>\n      <td>1750.0</td>\n      <td>3.0</td>\n      <td>8514.285714</td>\n      <td>12</td>\n      <td>0</td>\n      <td>0</td>\n      <td>0</td>\n      <td>...</td>\n      <td>0</td>\n      <td>0</td>\n      <td>0</td>\n      <td>0</td>\n      <td>0</td>\n      <td>0</td>\n      <td>0</td>\n      <td>0</td>\n      <td>0</td>\n      <td>0</td>\n    </tr>\n    <tr>\n      <th>2</th>\n      <td>3</td>\n      <td>3.0</td>\n      <td>2.0</td>\n      <td>1750.0</td>\n      <td>3.0</td>\n      <td>8571.428571</td>\n      <td>12</td>\n      <td>0</td>\n      <td>0</td>\n      <td>0</td>\n      <td>...</td>\n      <td>0</td>\n      <td>0</td>\n      <td>0</td>\n      <td>0</td>\n      <td>0</td>\n      <td>0</td>\n      <td>0</td>\n      <td>0</td>\n      <td>0</td>\n      <td>0</td>\n    </tr>\n    <tr>\n      <th>3</th>\n      <td>3</td>\n      <td>2.0</td>\n      <td>3.0</td>\n      <td>1250.0</td>\n      <td>3.0</td>\n      <td>3520.000000</td>\n      <td>9</td>\n      <td>0</td>\n      <td>0</td>\n      <td>0</td>\n      <td>...</td>\n      <td>0</td>\n      <td>0</td>\n      <td>0</td>\n      <td>0</td>\n      <td>0</td>\n      <td>0</td>\n      <td>0</td>\n      <td>0</td>\n      <td>0</td>\n      <td>0</td>\n    </tr>\n    <tr>\n      <th>4</th>\n      <td>3</td>\n      <td>2.0</td>\n      <td>2.0</td>\n      <td>1250.0</td>\n      <td>2.0</td>\n      <td>3200.000000</td>\n      <td>12</td>\n      <td>0</td>\n      <td>0</td>\n      <td>0</td>\n      <td>...</td>\n      <td>0</td>\n      <td>0</td>\n      <td>0</td>\n      <td>0</td>\n      <td>0</td>\n      <td>0</td>\n      <td>0</td>\n      <td>0</td>\n      <td>0</td>\n      <td>0</td>\n    </tr>\n  </tbody>\n</table>\n<p>5 rows × 93 columns</p>\n</div>",
      "text/plain": [
       "   area_type  bath  balcony  total_sqft  size         prft  availability  \\\n",
       "0          3   3.0      2.0      1672.0   2.0  8971.291866            12   \n",
       "1          0   3.0      3.0      1750.0   3.0  8514.285714            12   \n",
       "2          3   3.0      2.0      1750.0   3.0  8571.428571            12   \n",
       "3          3   2.0      3.0      1250.0   3.0  3520.000000             9   \n",
       "4          3   2.0      2.0      1250.0   2.0  3200.000000            12   \n",
       "\n",
       "   location_Whitefield  location_Sarjapur  Road  location_Electronic City  \\\n",
       "0                    0                        0                         0   \n",
       "1                    0                        0                         0   \n",
       "2                    0                        0                         0   \n",
       "3                    0                        0                         0   \n",
       "4                    0                        0                         0   \n",
       "\n",
       "   ...  location_Bommasandra  location_Vijayanagar  location_Channasandra  \\\n",
       "0  ...                     0                     0                      0   \n",
       "1  ...                     0                     0                      0   \n",
       "2  ...                     0                     0                      0   \n",
       "3  ...                     0                     0                      0   \n",
       "4  ...                     0                     0                      0   \n",
       "\n",
       "   location_Choodasandra  location_Mahadevpura  location_Old Airport Road  \\\n",
       "0                      0                     0                          0   \n",
       "1                      0                     0                          0   \n",
       "2                      0                     0                          0   \n",
       "3                      0                     0                          0   \n",
       "4                      0                     0                          0   \n",
       "\n",
       "   location_Kanakapura  location_Ambedkar Nagar  location_Anekal  \\\n",
       "0                    0                        0                0   \n",
       "1                    0                        0                0   \n",
       "2                    0                        0                0   \n",
       "3                    0                        0                0   \n",
       "4                    0                        0                0   \n",
       "\n",
       "   location_Kothannur  \n",
       "0                   0  \n",
       "1                   0  \n",
       "2                   0  \n",
       "3                   0  \n",
       "4                   0  \n",
       "\n",
       "[5 rows x 93 columns]"
      ]
     },
     "metadata": {},
     "execution_count": 45
    }
   ],
   "source": [
    "X.head()"
   ]
  },
  {
   "cell_type": "code",
   "execution_count": 49,
   "metadata": {},
   "outputs": [],
   "source": [
    "from sklearn import preprocessing\n",
    "import pickle\n",
    "lb = preprocessing.LabelEncoder()\n"
   ]
  },
  {
   "cell_type": "code",
   "execution_count": 50,
   "metadata": {},
   "outputs": [],
   "source": [
    "lb=preprocessing.LabelEncoder()"
   ]
  },
  {
   "cell_type": "code",
   "execution_count": 51,
   "metadata": {},
   "outputs": [],
   "source": [
    "bo=pd.read_csv(\"label.csv\")"
   ]
  },
  {
   "cell_type": "code",
   "execution_count": 52,
   "metadata": {},
   "outputs": [],
   "source": [
    "bo[\"availability\"]=lb.fit_transform(bo[\"availability\"])"
   ]
  },
  {
   "cell_type": "code",
   "execution_count": 56,
   "metadata": {},
   "outputs": [
    {
     "output_type": "execute_result",
     "data": {
      "text/html": "<div>\n<style scoped>\n    .dataframe tbody tr th:only-of-type {\n        vertical-align: middle;\n    }\n\n    .dataframe tbody tr th {\n        vertical-align: top;\n    }\n\n    .dataframe thead th {\n        text-align: right;\n    }\n</style>\n<table border=\"1\" class=\"dataframe\">\n  <thead>\n    <tr style=\"text-align: right;\">\n      <th></th>\n      <th>area_type</th>\n      <th>bath</th>\n      <th>balcony</th>\n      <th>price</th>\n      <th>total_sqft</th>\n      <th>size</th>\n      <th>prft</th>\n      <th>availability</th>\n      <th>location_Whitefield</th>\n      <th>location_Sarjapur  Road</th>\n      <th>...</th>\n      <th>location_Bommasandra</th>\n      <th>location_Vijayanagar</th>\n      <th>location_Channasandra</th>\n      <th>location_Choodasandra</th>\n      <th>location_Mahadevpura</th>\n      <th>location_Old Airport Road</th>\n      <th>location_Kanakapura</th>\n      <th>location_Ambedkar Nagar</th>\n      <th>location_Anekal</th>\n      <th>location_Kothannur</th>\n    </tr>\n  </thead>\n  <tbody>\n    <tr>\n      <th>0</th>\n      <td>3</td>\n      <td>2</td>\n      <td>2</td>\n      <td>150</td>\n      <td>1850</td>\n      <td>3</td>\n      <td>8971.291866</td>\n      <td>3</td>\n      <td>1</td>\n      <td>0</td>\n      <td>...</td>\n      <td>0</td>\n      <td>0</td>\n      <td>0</td>\n      <td>0</td>\n      <td>0</td>\n      <td>0</td>\n      <td>0</td>\n      <td>0</td>\n      <td>0</td>\n      <td>0</td>\n    </tr>\n  </tbody>\n</table>\n<p>1 rows × 94 columns</p>\n</div>",
      "text/plain": [
       "   area_type  bath  balcony  price  total_sqft  size         prft  \\\n",
       "0          3     2        2    150        1850     3  8971.291866   \n",
       "\n",
       "   availability  location_Whitefield  location_Sarjapur  Road  ...  \\\n",
       "0             3                    1                        0  ...   \n",
       "\n",
       "   location_Bommasandra  location_Vijayanagar  location_Channasandra  \\\n",
       "0                     0                     0                      0   \n",
       "\n",
       "   location_Choodasandra  location_Mahadevpura  location_Old Airport Road  \\\n",
       "0                      0                     0                          0   \n",
       "\n",
       "   location_Kanakapura  location_Ambedkar Nagar  location_Anekal  \\\n",
       "0                    0                        0                0   \n",
       "\n",
       "   location_Kothannur  \n",
       "0                   0  \n",
       "\n",
       "[1 rows x 94 columns]"
      ]
     },
     "metadata": {},
     "execution_count": 56
    }
   ],
   "source": [
    "f=pd.read_csv(\"pred.csv\")\n",
    "f.head()"
   ]
  },
  {
   "cell_type": "code",
   "execution_count": 57,
   "metadata": {},
   "outputs": [],
   "source": [
    "f=f.drop(\"price\",axis=1)"
   ]
  },
  {
   "cell_type": "code",
   "execution_count": 64,
   "metadata": {},
   "outputs": [],
   "source": [
    "sc=StandardScaler()\n",
    "sc.fit(f)\n",
    "f=sc.transform(f)\n"
   ]
  },
  {
   "cell_type": "code",
   "execution_count": 65,
   "metadata": {},
   "outputs": [
    {
     "output_type": "execute_result",
     "data": {
      "text/plain": [
       "array([89.0038213])"
      ]
     },
     "metadata": {},
     "execution_count": 65
    }
   ],
   "source": [
    "rg.predict(f)\n"
   ]
  },
  {
   "cell_type": "code",
   "execution_count": 66,
   "metadata": {},
   "outputs": [
    {
     "output_type": "execute_result",
     "data": {
      "text/plain": [
       "array([89.0038213])"
      ]
     },
     "metadata": {},
     "execution_count": 66
    }
   ],
   "source": [
    "ls.predict(f)"
   ]
  },
  {
   "cell_type": "code",
   "execution_count": 67,
   "metadata": {},
   "outputs": [
    {
     "output_type": "execute_result",
     "data": {
      "text/plain": [
       "array([84.522])"
      ]
     },
     "metadata": {},
     "execution_count": 67
    }
   ],
   "source": [
    "rf.predict(f)"
   ]
  },
  {
   "cell_type": "code",
   "execution_count": 68,
   "metadata": {},
   "outputs": [
    {
     "output_type": "execute_result",
     "data": {
      "text/plain": [
       "array([89.0038213])"
      ]
     },
     "metadata": {},
     "execution_count": 68
    }
   ],
   "source": [
    "lr.predict(f)"
   ]
  },
  {
   "source": [
    "# The final price is 89 "
   ],
   "cell_type": "markdown",
   "metadata": {}
  },
  {
   "cell_type": "code",
   "execution_count": null,
   "metadata": {},
   "outputs": [],
   "source": []
  }
 ]
}