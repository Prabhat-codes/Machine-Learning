{
 "metadata": {
  "language_info": {
   "codemirror_mode": {
    "name": "ipython",
    "version": 3
   },
   "file_extension": ".py",
   "mimetype": "text/x-python",
   "name": "python",
   "nbconvert_exporter": "python",
   "pygments_lexer": "ipython3",
   "version": "2.7.17"
  },
  "orig_nbformat": 2,
  "kernelspec": {
   "name": "python2",
   "display_name": "Python 2",
   "language": "python"
  }
 },
 "nbformat": 4,
 "nbformat_minor": 2,
 "cells": [
  {
   "source": [
    "<h2>Basic printing"
   ],
   "cell_type": "markdown",
   "metadata": {}
  },
  {
   "cell_type": "code",
   "execution_count": 3,
   "metadata": {},
   "outputs": [
    {
     "output_type": "stream",
     "name": "stdout",
     "text": [
      "Hello world\n"
     ]
    }
   ],
   "source": [
    "print(\"Hello world\")"
   ]
  },
  {
   "source": [
    "<h2>If else cases<h2>"
   ],
   "cell_type": "markdown",
   "metadata": {}
  },
  {
   "source": [
    "x=5\n",
    "y=2\n",
    "print(\"y is of type\",end=\"\") \n",
    "print(type(y)) \n",
    "if x>y:\n",
    "    print(\"True\")\n",
    "else:\n",
    "    print(\"False\")"
   ],
   "cell_type": "code",
   "metadata": {},
   "execution_count": 10,
   "outputs": [
    {
     "output_type": "stream",
     "name": "stdout",
     "text": [
      "y is of type<class 'int'>\nTrue\n"
     ]
    }
   ]
  },
  {
   "source": [
    "<h2>Casting and getting type"
   ],
   "cell_type": "markdown",
   "metadata": {}
  },
  {
   "cell_type": "code",
   "execution_count": 11,
   "metadata": {},
   "outputs": [
    {
     "output_type": "stream",
     "name": "stdout",
     "text": [
      "y is of type<class 'int'>\n2 is even\n"
     ]
    }
   ],
   "source": [
    "x=str(y)\n",
    "print(\"y is of type\",end=\"\") \n",
    "print(type(y))\n",
    "print(x+\" is even\")"
   ]
  },
  {
   "source": [
    "<h2>Unpacking a collection"
   ],
   "cell_type": "markdown",
   "metadata": {}
  },
  {
   "cell_type": "code",
   "execution_count": 12,
   "metadata": {},
   "outputs": [
    {
     "output_type": "stream",
     "name": "stdout",
     "text": [
      "banana\napple\ngrapes\n"
     ]
    }
   ],
   "source": [
    "fruits=[\"banana\",\"apple\",\"grapes\"]\n",
    "x,y,z=fruits\n",
    "print(x)\n",
    "print(y)\n",
    "print(z)"
   ]
  },
  {
   "source": [
    "<h2>Functions and Global Variables"
   ],
   "cell_type": "markdown",
   "metadata": {}
  },
  {
   "cell_type": "code",
   "execution_count": 15,
   "metadata": {},
   "outputs": [
    {
     "output_type": "stream",
     "name": "stdout",
     "text": [
      "5\n"
     ]
    }
   ],
   "source": [
    "x=5\n",
    "\n",
    "def myFunc():\n",
    "    print(x)\n",
    "\n",
    "    \n",
    "myFunc()"
   ]
  },
  {
   "source": [
    "<h2>Data types"
   ],
   "cell_type": "markdown",
   "metadata": {}
  },
  {
   "source": [
    "v={\"apple\",\"banana\"}\n",
    "x=[\"Apple\",\"Banana\",\"cherry\"]\n",
    "y=(\"Apple\",\"banana\",\"cherry\")\n",
    "z={\"name\":\"prabhat\",\"age\":\"16\"}\n",
    "print(type(v))\n",
    "print(type(x))\n",
    "print(type(y))\n",
    "print(type(z))"
   ],
   "cell_type": "code",
   "metadata": {},
   "execution_count": 19,
   "outputs": [
    {
     "output_type": "stream",
     "name": "stdout",
     "text": [
      "<class 'set'>\n<class 'list'>\n<class 'tuple'>\n<class 'dict'>\n"
     ]
    }
   ]
  },
  {
   "source": [
    "<h2>Random number"
   ],
   "cell_type": "markdown",
   "metadata": {}
  },
  {
   "cell_type": "code",
   "execution_count": 26,
   "metadata": {},
   "outputs": [
    {
     "output_type": "stream",
     "name": "stdout",
     "text": [
      "3\n"
     ]
    }
   ],
   "source": [
    "import random\n",
    "print(random.randrange(1,10))"
   ]
  },
  {
   "source": [
    "<h2>Strings"
   ],
   "cell_type": "markdown",
   "metadata": {}
  },
  {
   "cell_type": "code",
   "execution_count": 28,
   "metadata": {},
   "outputs": [
    {
     "output_type": "stream",
     "name": "stdout",
     "text": [
      "e\n"
     ]
    }
   ],
   "source": [
    "a=\"Hello world\"\n",
    "print(a[1])"
   ]
  },
  {
   "cell_type": "code",
   "execution_count": 29,
   "metadata": {},
   "outputs": [
    {
     "output_type": "stream",
     "name": "stdout",
     "text": [
      "b\na\nn\na\nn\na\n"
     ]
    }
   ],
   "source": [
    "for x in \"banana\":\n",
    "    print(x)"
   ]
  },
  {
   "cell_type": "code",
   "execution_count": 30,
   "metadata": {},
   "outputs": [
    {
     "output_type": "stream",
     "name": "stdout",
     "text": [
      "11\n"
     ]
    }
   ],
   "source": [
    "print(len(a))"
   ]
  },
  {
   "cell_type": "code",
   "execution_count": 34,
   "metadata": {},
   "outputs": [
    {
     "output_type": "stream",
     "name": "stdout",
     "text": [
      "True\nNO\nworld is in text\n"
     ]
    }
   ],
   "source": [
    "print(\"Hello\" in a)\n",
    "if \"free\" in a:\n",
    "    print(\"YES\")\n",
    "else:\n",
    "    print(\"NO\")\n",
    "if \"world\" not in a:\n",
    "    print(\"world is not in the text\")\n",
    "else:\n",
    "    print(\"world is in text\")"
   ]
  },
  {
   "source": [
    "<h2>Slicing "
   ],
   "cell_type": "markdown",
   "metadata": {}
  },
  {
   "cell_type": "code",
   "execution_count": 74,
   "metadata": {},
   "outputs": [
    {
     "output_type": "stream",
     "name": "stdout",
     "text": [
      "na\nJonat\nathan\nath\n"
     ]
    }
   ],
   "source": [
    "b=\"Jonathan\"\n",
    "print(b[2:4])\n",
    "print(b[:5])\n",
    "print(b[3:])\n",
    "print(b[-5:-2]) #negative slicing starts from the end "
   ]
  },
  {
   "cell_type": "code",
   "execution_count": 45,
   "metadata": {},
   "outputs": [
    {
     "output_type": "stream",
     "name": "stdout",
     "text": [
      "HELLO WORLD\nprabhat\n"
     ]
    }
   ],
   "source": [
    "print(a.upper())\n",
    "print(b.lower())"
   ]
  },
  {
   "cell_type": "code",
   "execution_count": 46,
   "metadata": {},
   "outputs": [
    {
     "output_type": "execute_result",
     "data": {
      "text/plain": [
       "'Rrabhat'"
      ]
     },
     "metadata": {},
     "execution_count": 46
    }
   ],
   "source": [
    "b.replace(\"P\", \"R\")"
   ]
  },
  {
   "cell_type": "code",
   "execution_count": 49,
   "metadata": {},
   "outputs": [
    {
     "output_type": "stream",
     "name": "stdout",
     "text": [
      "['Hello', ' world']\n"
     ]
    }
   ],
   "source": [
    "x=\"Hello, world\"\n",
    "print(x.split(\",\")) # returns ['Hello', ' world'] "
   ]
  },
  {
   "cell_type": "code",
   "execution_count": 73,
   "metadata": {},
   "outputs": [
    {
     "output_type": "stream",
     "name": "stdout",
     "text": [
      "My name is ABC and I am 36 and I am good orange\n"
     ]
    }
   ],
   "source": [
    "age=36\n",
    "txt=\"My name is ABC and I am {} and I am good {}\"\n",
    "print(txt.format(age,x))"
   ]
  },
  {
   "source": [
    "<h2>Collections\n",
    "<p>There are four collection data types in the Python programming language:\n",
    "\n",
    "    List is a collection which is ordered and changeable. Allows duplicate members.\n",
    "    Tuple is a collection which is ordered and unchangeable. Allows duplicate members.\n",
    "    Set is a collection which is unordered and unindexed. No duplicate members.\n",
    "    Dictionary is a collection which is ordered* and changeable. No duplicate members.\n"
   ],
   "cell_type": "markdown",
   "metadata": {}
  },
  {
   "source": [
    "<h2>Lists"
   ],
   "cell_type": "markdown",
   "metadata": {}
  },
  {
   "cell_type": "code",
   "execution_count": 67,
   "metadata": {},
   "outputs": [
    {
     "output_type": "stream",
     "name": "stdout",
     "text": [
      "3\n5\n\nTrue\n\n[True, 40]\nno doctor\n['apple', 'banana', 'watermelon', 'cherry']\n['apple', 'banana', 'watermelon', 'cherry', 'orange']\n['orange', 'cherry', 'watermelon', 'banana', 'apple']\n['orange', 'cherry', 'watermelon', 'banana', 'apple', 'abc', 34, True, 40, 'male']\n"
     ]
    }
   ],
   "source": [
    "#indexed changeable and allow duplicates \n",
    "thislist = [\"apple\", \"banana\", \"cherry\"]\n",
    "print(len(thislist))\n",
    "\n",
    "list1 = [\"abc\", 34, True, 40, \"male\"]\n",
    "print(len(list1))\n",
    "print()\n",
    "print(list1[2])\n",
    "print()\n",
    "print(list1[2:4]) #Last index not included\n",
    "\n",
    "if \"apple\" in thislist:\n",
    "    print(\"no doctor\")\n",
    "\n",
    "thislist.insert(2, \"watermelon\")\n",
    "print(thislist)\n",
    "\n",
    "thislist.append(\"orange\")\n",
    "print(thislist)\n",
    "\n",
    "thislist.reverse()\n",
    "print(thislist)\n",
    "\n",
    "thislist.extend(list1)\n",
    "print(thislist)"
   ]
  },
  {
   "cell_type": "code",
   "execution_count": 70,
   "metadata": {},
   "outputs": [
    {
     "output_type": "stream",
     "name": "stdout",
     "text": [
      "['apple', 'banana', 'cherry', 'kiwi', 'orange']\n['apple', 'banana', 'kiwi', 'orange']\n"
     ]
    }
   ],
   "source": [
    "thislist = [\"apple\", \"banana\", \"cherry\"]\n",
    "thistuple = (\"kiwi\", \"orange\")\n",
    "thislist.extend(thistuple)\n",
    "print(thislist)\n",
    "\n",
    "thislist.pop(2)\n",
    "print(thislist)"
   ]
  },
  {
   "cell_type": "code",
   "execution_count": 72,
   "metadata": {},
   "outputs": [
    {
     "output_type": "stream",
     "name": "stdout",
     "text": [
      "apple\nbanana\nkiwi\norange\napple\nbanana\nkiwi\norange\n"
     ]
    }
   ],
   "source": [
    "for x in thislist:\n",
    "  print(x) \n",
    "  i = 0\n",
    "while i < len(thislist):\n",
    "  print(thislist[i])\n",
    "  i = i + 1"
   ]
  },
  {
   "source": [
    "<p>newlist = [expression for item in iterable if condition == True]</p>"
   ],
   "cell_type": "markdown",
   "metadata": {}
  },
  {
   "cell_type": "code",
   "execution_count": 76,
   "metadata": {},
   "outputs": [
    {
     "output_type": "stream",
     "name": "stdout",
     "text": [
      "['apple', 'banana', 'mango']\n[]\n['apple', 'banana', 'mango']\n"
     ]
    }
   ],
   "source": [
    "fruits = [\"apple\", \"banana\", \"cherry\", \"kiwi\", \"mango\"]\n",
    "newlist = []\n",
    "\n",
    "for x in fruits:\n",
    "  if \"a\" in x:\n",
    "    newlist.append(x)\n",
    "\n",
    "print(newlist) \n",
    "\n",
    "newlist.clear()\n",
    "print(newlist)\n",
    "\n",
    "fruits = [\"apple\", \"banana\", \"cherry\", \"kiwi\", \"mango\"]\n",
    "\n",
    "newlist = [x for x in fruits if \"a\" in x]\n",
    "\n",
    "print(newlist) "
   ]
  },
  {
   "source": [],
   "cell_type": "markdown",
   "metadata": {}
  }
 ]
}